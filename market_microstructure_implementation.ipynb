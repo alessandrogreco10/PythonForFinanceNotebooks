{
  "cells": [
    {
      "metadata": {
        "_uuid": "7eb5a671ce48dc3779094a974ecc013595bf155e"
      },
      "cell_type": "markdown",
      "source": "**Load the libraries and the data**\n\nNote that you need to install \"linearmodels\" first.  (try pip3 install linearmodels or sudo pip3 install linearmodels)\n"
    },
    {
      "metadata": {
        "trusted": true,
        "_uuid": "5d93ee07e4b20c83ae94422565ea3bfce03cd051"
      },
      "cell_type": "code",
      "source": "import numpy as np\nimport pandas as pd\nimport datetime as dt\nfrom linearmodels import PooledOLS \n\n# load the data\npath = '../input/'\ndf = pd.read_pickle(path + 'MM_stock_data_FINAL.pkl')",
      "execution_count": 4,
      "outputs": []
    },
    {
      "metadata": {
        "trusted": true,
        "_uuid": "71b1e35b0f0b7c3f20fe6ebad3df90b6aebad49e"
      },
      "cell_type": "code",
      "source": "#smallCapTickers = ['KYN', 'DY', 'AY', 'GWLLF', 'OPK', 'MEDP', 'FIX', 'BEL', 'BZUN', 'VGR']",
      "execution_count": 5,
      "outputs": []
    },
    {
      "metadata": {
        "_uuid": "b22097be7a15880c0fea8599a08c62e5d333d7c3"
      },
      "cell_type": "markdown",
      "source": "**Get tickers of all the 30 stocks. **\n\n**Create a dictionary to store all the estimates.**"
    },
    {
      "metadata": {
        "trusted": true,
        "_uuid": "9019c3ac19ac3aada4f916d041f39ca8b64798a4"
      },
      "cell_type": "code",
      "source": "tickers = df['Adj Close'].columns.values\n\nestimates = dict()\nfor ticker in tickers:\n    estimates[ticker] = dict()",
      "execution_count": 6,
      "outputs": []
    },
    {
      "metadata": {
        "trusted": true,
        "_uuid": "5e04014565db362bc428fbaa76f877ac094f3a98"
      },
      "cell_type": "code",
      "source": "''' Roll (1984) estimate of the effective spread '''\n\nadjClose = df['Adj Close']\n\nfor ticker in tickers:\n\n    logReturn = np.log(adjClose[ticker] / adjClose[ticker].shift(1)).reset_index()\n    logReturn['month'] = logReturn['Date'].apply(lambda x: x.month)\n    \n    returnCov = logReturn.groupby('month')[ticker].apply(lambda x: x.cov(x.shift(1)))\n    \n    # For cases where the covariance is positive, the Roll estimate must be set to 0.\n    rollEstimate = returnCov.apply(lambda x: 2 * np.sqrt(-x) if x < 0 else 0)\n    \n    estimates[ticker]['rollEstimate'] = rollEstimate\n\n",
      "execution_count": 7,
      "outputs": []
    },
    {
      "metadata": {
        "trusted": true,
        "_uuid": "13b22c647795b7005b664d8d587b1c25c9b54f91"
      },
      "cell_type": "code",
      "source": "''' The Abdi and Ranaldo (2017) estimate of the effective '''\n\nLow = df['Low']\nHigh = df['High']\n\nfor ticker in tickers:\n\n    dfTemp = np.log(adjClose[ticker]).reset_index()\n    dfTemp.columns = ['Date', 'c']\n    \n    dfTemp['eta'] = np.log((High[ticker] + Low[ticker]) / 2).values\n    dfTemp['month'] = dfTemp['Date'].apply(lambda x: x.month)\n    \n    AbdiCov = dfTemp.groupby('month').apply(lambda x: (x.c - x.eta).cov(x.c - x.eta.shift(1)))\n\n    # For cases where the covariance is negative, the Abdi estimate must be set to 0.    \n    abdiEstimate = AbdiCov.apply(lambda x: 2 * np.sqrt(x) if x > 0 else 0)\n\n    estimates[ticker]['abdiEstimate'] = abdiEstimate\n\n\n",
      "execution_count": 8,
      "outputs": []
    },
    {
      "metadata": {
        "trusted": true,
        "_uuid": "0b08f3457d528308ceeb7a8726c84f71a138fb2f"
      },
      "cell_type": "code",
      "source": "''' The Amihud (2002) illiquidity ratio ''' \n\nVolume = df['Volume']\n\nfor ticker in tickers:\n\n    absLogReturn = abs(np.log(adjClose[ticker] / adjClose[ticker].shift(1)))\n    \n    # Beware of the way to calculate the dollar volume\n    dollarVol = Volume[ticker] * adjClose[ticker]\n    \n    amihudRatio = absLogReturn / dollarVol\n    \n    amihudRatio = amihudRatio.reset_index()\n    amihudRatio['month'] = amihudRatio['Date'].apply(lambda x: x.month)\n    \n    amihudRatio = amihudRatio.groupby('month')[ticker].mean()\n    \n    estimates[ticker]['amihudRatio'] = amihudRatio\n\n",
      "execution_count": 9,
      "outputs": []
    },
    {
      "metadata": {
        "trusted": true,
        "_uuid": "d92f9d8e07ebd73e52efd971fb5fc7fa4d70d69c"
      },
      "cell_type": "code",
      "source": "''' The average daily market cap ''' \n\nMarketCap = df['MarketCap']\n\nfor ticker in tickers:\n\n    avgMarketCap = MarketCap[ticker].reset_index()\n    \n    avgMarketCap['month'] = avgMarketCap['Date'].apply(lambda x: x.month)\n    \n    avgMarketCap = avgMarketCap.groupby('month')[ticker].mean()\n    \n    estimates[ticker]['avgMarketCap'] = avgMarketCap\n\n\n",
      "execution_count": 10,
      "outputs": []
    },
    {
      "metadata": {
        "trusted": true,
        "_uuid": "487647173b78b6c5bf1eb7cfcbe3408819324be7"
      },
      "cell_type": "code",
      "source": "''' The average daily trading volume (in number of shares) '''\n\nVolume = df['Volume']\n\nfor ticker in tickers:\n\n    avgVolume = Volume[ticker].reset_index()\n    \n    avgVolume['month'] = avgVolume['Date'].apply(lambda x: x.month)\n    \n    avgVolume = avgVolume.groupby('month')[ticker].mean()\n    \n    estimates[ticker]['avgVolume'] = avgVolume\n\n    ",
      "execution_count": 11,
      "outputs": []
    },
    {
      "metadata": {
        "trusted": true,
        "_uuid": "0867139869e7a06f048793ee9fdfaaeaaaeec015"
      },
      "cell_type": "code",
      "source": "''' The daily volatility as the standard deviation of daily stock returns over the month '''\n\nadjClose = df['Adj Close']\n\nfor ticker in tickers:\n\n    logReturn = np.log(adjClose[ticker] / adjClose[ticker].shift(1)).reset_index()\n    logReturn['month'] = logReturn['Date'].apply(lambda x: x.month)\n    \n    dailyVol = logReturn.groupby('month')[ticker].std()\n    \n    estimates[ticker]['dailyVol'] = dailyVol\n    \n    \n",
      "execution_count": 12,
      "outputs": []
    },
    {
      "metadata": {
        "trusted": true,
        "_uuid": "2741497460554ef08d2cdbe9b83fb5da3cf05a78"
      },
      "cell_type": "code",
      "source": "'''  The average daily value of the inverse of the price ''' \n# Not sure I understand this. Is it just the avg of the 1 / price ?\n\nadjClose = df['Adj Close']\n\nfor ticker in tickers:\n\n    invPrice = (adjClose[ticker] ** (-1)).reset_index()\n    \n    invPrice['month'] = invPrice['Date'].apply(lambda x: x.month)\n    \n    invPriceAvg = invPrice.groupby('month')[ticker].mean()\n    \n    estimates[ticker]['invPriceAvg'] = invPriceAvg\n\n\n",
      "execution_count": 13,
      "outputs": []
    },
    {
      "metadata": {
        "trusted": true,
        "_uuid": "4bf5089facf6edcc97b5fb8300ca03b39ee06473"
      },
      "cell_type": "code",
      "source": "'''  compute the correlation matrix between all the variables ''' \n\n# We end up with 30 corr matrices? \n\n# for ticker in tickers:\n#     print(pd.DataFrame(estimates[ticker]).corr())\n    \n# Or use panel data? \n\npanel = pd.DataFrame()\n\nfor ticker in tickers:\n    \n    tickerData = pd.DataFrame(estimates[ticker])\n    tickerData['ticker'] = ticker\n    \n    panel = panel.append(tickerData)\n    \npanel = panel.reset_index()    \n    \ncorrVars = [x for x in panel.columns if x not in ['month', 'ticker']]\npanel[corrVars].corr()\n    \n",
      "execution_count": 14,
      "outputs": [
        {
          "output_type": "execute_result",
          "execution_count": 14,
          "data": {
            "text/plain": "              rollEstimate  abdiEstimate     ...       dailyVol  invPriceAvg\nrollEstimate      1.000000      0.341068     ...       0.405357     0.155949\nabdiEstimate      0.341068      1.000000     ...       0.922053     0.259097\namihudRatio       0.041133      0.200562     ...       0.177590     0.390294\navgMarketCap      0.064803      0.072121     ...       0.114168    -0.115413\navgVolume         0.087607      0.227481     ...       0.260772    -0.002676\ndailyVol          0.405357      0.922053     ...       1.000000     0.220022\ninvPriceAvg       0.155949      0.259097     ...       0.220022     1.000000\n\n[7 rows x 7 columns]",
            "text/html": "<div>\n<style scoped>\n    .dataframe tbody tr th:only-of-type {\n        vertical-align: middle;\n    }\n\n    .dataframe tbody tr th {\n        vertical-align: top;\n    }\n\n    .dataframe thead th {\n        text-align: right;\n    }\n</style>\n<table border=\"1\" class=\"dataframe\">\n  <thead>\n    <tr style=\"text-align: right;\">\n      <th></th>\n      <th>rollEstimate</th>\n      <th>abdiEstimate</th>\n      <th>amihudRatio</th>\n      <th>avgMarketCap</th>\n      <th>avgVolume</th>\n      <th>dailyVol</th>\n      <th>invPriceAvg</th>\n    </tr>\n  </thead>\n  <tbody>\n    <tr>\n      <th>rollEstimate</th>\n      <td>1.000000</td>\n      <td>0.341068</td>\n      <td>0.041133</td>\n      <td>0.064803</td>\n      <td>0.087607</td>\n      <td>0.405357</td>\n      <td>0.155949</td>\n    </tr>\n    <tr>\n      <th>abdiEstimate</th>\n      <td>0.341068</td>\n      <td>1.000000</td>\n      <td>0.200562</td>\n      <td>0.072121</td>\n      <td>0.227481</td>\n      <td>0.922053</td>\n      <td>0.259097</td>\n    </tr>\n    <tr>\n      <th>amihudRatio</th>\n      <td>0.041133</td>\n      <td>0.200562</td>\n      <td>1.000000</td>\n      <td>-0.208016</td>\n      <td>-0.313820</td>\n      <td>0.177590</td>\n      <td>0.390294</td>\n    </tr>\n    <tr>\n      <th>avgMarketCap</th>\n      <td>0.064803</td>\n      <td>0.072121</td>\n      <td>-0.208016</td>\n      <td>1.000000</td>\n      <td>0.120097</td>\n      <td>0.114168</td>\n      <td>-0.115413</td>\n    </tr>\n    <tr>\n      <th>avgVolume</th>\n      <td>0.087607</td>\n      <td>0.227481</td>\n      <td>-0.313820</td>\n      <td>0.120097</td>\n      <td>1.000000</td>\n      <td>0.260772</td>\n      <td>-0.002676</td>\n    </tr>\n    <tr>\n      <th>dailyVol</th>\n      <td>0.405357</td>\n      <td>0.922053</td>\n      <td>0.177590</td>\n      <td>0.114168</td>\n      <td>0.260772</td>\n      <td>1.000000</td>\n      <td>0.220022</td>\n    </tr>\n    <tr>\n      <th>invPriceAvg</th>\n      <td>0.155949</td>\n      <td>0.259097</td>\n      <td>0.390294</td>\n      <td>-0.115413</td>\n      <td>-0.002676</td>\n      <td>0.220022</td>\n      <td>1.000000</td>\n    </tr>\n  </tbody>\n</table>\n</div>"
          },
          "metadata": {}
        }
      ]
    },
    {
      "metadata": {
        "trusted": true,
        "_uuid": "7d9328b0d88c964f419bcdb03adb2b4d5334619f"
      },
      "cell_type": "code",
      "source": "''' run a pooled regression of each of the transaction cost estimates against the three explanatory variables  '''\n\n# There seems to be four explanatory variables? \n\nregResult = dict()\n\ndependent = ['rollEstimate', 'abdiEstimate', 'amihudRatio']\nexog = ['avgVolume', 'avgMarketCap', 'dailyVol', 'invPriceAvg']\n\npanel = panel.set_index(['ticker', 'month'])\n\nfor y in dependent:\n    mod = PooledOLS(panel[y], panel[exog])\n    res = mod.fit()\n    regResult[y] = res\n    \n",
      "execution_count": 15,
      "outputs": []
    },
    {
      "metadata": {
        "trusted": true,
        "_uuid": "07ce8a114274c19a6911733aebd55d96f111c723"
      },
      "cell_type": "code",
      "source": "regResult['rollEstimate']",
      "execution_count": 16,
      "outputs": [
        {
          "output_type": "execute_result",
          "execution_count": 16,
          "data": {
            "text/plain": "                          PooledOLS Estimation Summary                          \n================================================================================\nDep. Variable:           rollEstimate   R-squared:                        0.5000\nEstimator:                  PooledOLS   R-squared (Between):              0.9505\nNo. Observations:                 360   R-squared (Within):               0.0748\nDate:                Fri, Nov 30 2018   R-squared (Overall):              0.5000\nTime:                        11:00:19   Log-likelihood                    1151.5\nCov. Estimator:            Unadjusted                                           \n                                        F-statistic:                      88.983\nEntities:                          30   P-value                           0.0000\nAvg Obs:                       12.000   Distribution:                   F(4,356)\nMin Obs:                       12.000                                           \nMax Obs:                       12.000   F-statistic (robust):             88.983\n                                        P-value                           0.0000\nTime periods:                      12   Distribution:                   F(4,356)\nAvg Obs:                       30.000                                           \nMin Obs:                       30.000                                           \nMax Obs:                       30.000                                           \n                                                                                \n                              Parameter Estimates                               \n================================================================================\n              Parameter  Std. Err.     T-stat    P-value    Lower CI    Upper CI\n--------------------------------------------------------------------------------\navgVolume    -3.533e-11  1.367e-10    -0.2585     0.7962  -3.041e-10   2.335e-10\navgMarketCap   3.77e-09  5.044e-09     0.7474     0.4553   -6.15e-09   1.369e-08\ndailyVol         0.4451     0.0429     10.367     0.0000      0.3607      0.5295\ninvPriceAvg      0.0315     0.0176     1.7896     0.0744     -0.0031      0.0660\n================================================================================\nPanelResults, id: 0x7fca3dc18dd8",
            "text/html": "<table class=\"simpletable\">\n<caption>PooledOLS Estimation Summary</caption>\n<tr>\n  <th>Dep. Variable:</th>      <td>rollEstimate</td>   <th>  R-squared:         </th>    <td>0.5000</td> \n</tr>\n<tr>\n  <th>Estimator:</th>            <td>PooledOLS</td>    <th>  R-squared (Between):</th>   <td>0.9505</td> \n</tr>\n<tr>\n  <th>No. Observations:</th>        <td>360</td>       <th>  R-squared (Within):</th>    <td>0.0748</td> \n</tr>\n<tr>\n  <th>Date:</th>             <td>Fri, Nov 30 2018</td> <th>  R-squared (Overall):</th>   <td>0.5000</td> \n</tr>\n<tr>\n  <th>Time:</th>                 <td>11:00:19</td>     <th>  Log-likelihood     </th>    <td>1151.5</td> \n</tr>\n<tr>\n  <th>Cov. Estimator:</th>      <td>Unadjusted</td>    <th>                     </th>       <td></td>    \n</tr>\n<tr>\n  <th></th>                          <td></td>         <th>  F-statistic:       </th>    <td>88.983</td> \n</tr>\n<tr>\n  <th>Entities:</th>                <td>30</td>        <th>  P-value            </th>    <td>0.0000</td> \n</tr>\n<tr>\n  <th>Avg Obs:</th>               <td>12.000</td>      <th>  Distribution:      </th>   <td>F(4,356)</td>\n</tr>\n<tr>\n  <th>Min Obs:</th>               <td>12.000</td>      <th>                     </th>       <td></td>    \n</tr>\n<tr>\n  <th>Max Obs:</th>               <td>12.000</td>      <th>  F-statistic (robust):</th>  <td>88.983</td> \n</tr>\n<tr>\n  <th></th>                          <td></td>         <th>  P-value            </th>    <td>0.0000</td> \n</tr>\n<tr>\n  <th>Time periods:</th>            <td>12</td>        <th>  Distribution:      </th>   <td>F(4,356)</td>\n</tr>\n<tr>\n  <th>Avg Obs:</th>               <td>30.000</td>      <th>                     </th>       <td></td>    \n</tr>\n<tr>\n  <th>Min Obs:</th>               <td>30.000</td>      <th>                     </th>       <td></td>    \n</tr>\n<tr>\n  <th>Max Obs:</th>               <td>30.000</td>      <th>                     </th>       <td></td>    \n</tr>\n<tr>\n  <th></th>                          <td></td>         <th>                     </th>       <td></td>    \n</tr>\n</table>\n<table class=\"simpletable\">\n<caption>Parameter Estimates</caption>\n<tr>\n        <td></td>        <th>Parameter</th> <th>Std. Err.</th> <th>T-stat</th>  <th>P-value</th>  <th>Lower CI</th>  <th>Upper CI</th> \n</tr>\n<tr>\n  <th>avgVolume</th>    <td>-3.533e-11</td> <td>1.367e-10</td> <td>-0.2585</td> <td>0.7962</td>  <td>-3.041e-10</td> <td>2.335e-10</td>\n</tr>\n<tr>\n  <th>avgMarketCap</th>  <td>3.77e-09</td>  <td>5.044e-09</td> <td>0.7474</td>  <td>0.4553</td>   <td>-6.15e-09</td> <td>1.369e-08</td>\n</tr>\n<tr>\n  <th>dailyVol</th>       <td>0.4451</td>    <td>0.0429</td>   <td>10.367</td>  <td>0.0000</td>    <td>0.3607</td>    <td>0.5295</td>  \n</tr>\n<tr>\n  <th>invPriceAvg</th>    <td>0.0315</td>    <td>0.0176</td>   <td>1.7896</td>  <td>0.0744</td>    <td>-0.0031</td>   <td>0.0660</td>  \n</tr>\n</table><br/>id: 0x7fca3dc18dd8"
          },
          "metadata": {}
        }
      ]
    },
    {
      "metadata": {
        "trusted": true,
        "_uuid": "72b7776a1b2c3a7ec3b26f4708a7e9f0a2a5eba7"
      },
      "cell_type": "code",
      "source": "regResult['abdiEstimate']",
      "execution_count": 17,
      "outputs": [
        {
          "output_type": "execute_result",
          "execution_count": 17,
          "data": {
            "text/plain": "                          PooledOLS Estimation Summary                          \n================================================================================\nDep. Variable:           abdiEstimate   R-squared:                        0.9637\nEstimator:                  PooledOLS   R-squared (Between):              0.9952\nNo. Observations:                 360   R-squared (Within):               0.6715\nDate:                Fri, Nov 30 2018   R-squared (Overall):              0.9637\nTime:                        11:00:19   Log-likelihood                    1443.9\nCov. Estimator:            Unadjusted                                           \n                                        F-statistic:                      2364.4\nEntities:                          30   P-value                           0.0000\nAvg Obs:                       12.000   Distribution:                   F(4,356)\nMin Obs:                       12.000                                           \nMax Obs:                       12.000   F-statistic (robust):             2364.4\n                                        P-value                           0.0000\nTime periods:                      12   Distribution:                   F(4,356)\nAvg Obs:                       30.000                                           \nMin Obs:                       30.000                                           \nMax Obs:                       30.000                                           \n                                                                                \n                              Parameter Estimates                               \n================================================================================\n              Parameter  Std. Err.     T-stat    P-value    Lower CI    Upper CI\n--------------------------------------------------------------------------------\navgVolume     1.968e-11  6.067e-11     0.3244     0.7458  -9.963e-11    1.39e-10\navgMarketCap -7.901e-10  2.239e-09    -0.3529     0.7244  -5.193e-09   3.613e-09\ndailyVol         1.0829     0.0191     56.824     0.0000      1.0455      1.1204\ninvPriceAvg      0.0343     0.0078     4.3958     0.0000      0.0190      0.0497\n================================================================================\nPanelResults, id: 0x7fca3dc18eb8",
            "text/html": "<table class=\"simpletable\">\n<caption>PooledOLS Estimation Summary</caption>\n<tr>\n  <th>Dep. Variable:</th>      <td>abdiEstimate</td>   <th>  R-squared:         </th>    <td>0.9637</td> \n</tr>\n<tr>\n  <th>Estimator:</th>            <td>PooledOLS</td>    <th>  R-squared (Between):</th>   <td>0.9952</td> \n</tr>\n<tr>\n  <th>No. Observations:</th>        <td>360</td>       <th>  R-squared (Within):</th>    <td>0.6715</td> \n</tr>\n<tr>\n  <th>Date:</th>             <td>Fri, Nov 30 2018</td> <th>  R-squared (Overall):</th>   <td>0.9637</td> \n</tr>\n<tr>\n  <th>Time:</th>                 <td>11:00:19</td>     <th>  Log-likelihood     </th>    <td>1443.9</td> \n</tr>\n<tr>\n  <th>Cov. Estimator:</th>      <td>Unadjusted</td>    <th>                     </th>       <td></td>    \n</tr>\n<tr>\n  <th></th>                          <td></td>         <th>  F-statistic:       </th>    <td>2364.4</td> \n</tr>\n<tr>\n  <th>Entities:</th>                <td>30</td>        <th>  P-value            </th>    <td>0.0000</td> \n</tr>\n<tr>\n  <th>Avg Obs:</th>               <td>12.000</td>      <th>  Distribution:      </th>   <td>F(4,356)</td>\n</tr>\n<tr>\n  <th>Min Obs:</th>               <td>12.000</td>      <th>                     </th>       <td></td>    \n</tr>\n<tr>\n  <th>Max Obs:</th>               <td>12.000</td>      <th>  F-statistic (robust):</th>  <td>2364.4</td> \n</tr>\n<tr>\n  <th></th>                          <td></td>         <th>  P-value            </th>    <td>0.0000</td> \n</tr>\n<tr>\n  <th>Time periods:</th>            <td>12</td>        <th>  Distribution:      </th>   <td>F(4,356)</td>\n</tr>\n<tr>\n  <th>Avg Obs:</th>               <td>30.000</td>      <th>                     </th>       <td></td>    \n</tr>\n<tr>\n  <th>Min Obs:</th>               <td>30.000</td>      <th>                     </th>       <td></td>    \n</tr>\n<tr>\n  <th>Max Obs:</th>               <td>30.000</td>      <th>                     </th>       <td></td>    \n</tr>\n<tr>\n  <th></th>                          <td></td>         <th>                     </th>       <td></td>    \n</tr>\n</table>\n<table class=\"simpletable\">\n<caption>Parameter Estimates</caption>\n<tr>\n        <td></td>        <th>Parameter</th> <th>Std. Err.</th> <th>T-stat</th>  <th>P-value</th>  <th>Lower CI</th>  <th>Upper CI</th> \n</tr>\n<tr>\n  <th>avgVolume</th>     <td>1.968e-11</td> <td>6.067e-11</td> <td>0.3244</td>  <td>0.7458</td>  <td>-9.963e-11</td> <td>1.39e-10</td> \n</tr>\n<tr>\n  <th>avgMarketCap</th> <td>-7.901e-10</td> <td>2.239e-09</td> <td>-0.3529</td> <td>0.7244</td>  <td>-5.193e-09</td> <td>3.613e-09</td>\n</tr>\n<tr>\n  <th>dailyVol</th>       <td>1.0829</td>    <td>0.0191</td>   <td>56.824</td>  <td>0.0000</td>    <td>1.0455</td>    <td>1.1204</td>  \n</tr>\n<tr>\n  <th>invPriceAvg</th>    <td>0.0343</td>    <td>0.0078</td>   <td>4.3958</td>  <td>0.0000</td>    <td>0.0190</td>    <td>0.0497</td>  \n</tr>\n</table><br/>id: 0x7fca3dc18eb8"
          },
          "metadata": {}
        }
      ]
    },
    {
      "metadata": {
        "trusted": true,
        "_uuid": "fb5e6cd23e792e8fcc93204eeb797dd3734724f7"
      },
      "cell_type": "code",
      "source": "regResult['amihudRatio']",
      "execution_count": 18,
      "outputs": [
        {
          "output_type": "execute_result",
          "execution_count": 18,
          "data": {
            "text/plain": "                          PooledOLS Estimation Summary                          \n================================================================================\nDep. Variable:            amihudRatio   R-squared:                        0.4890\nEstimator:                  PooledOLS   R-squared (Between):              0.5538\nNo. Observations:                 360   R-squared (Within):              -0.0810\nDate:                Fri, Nov 30 2018   R-squared (Overall):              0.4890\nTime:                        11:00:19   Log-likelihood                    7075.0\nCov. Estimator:            Unadjusted                                           \n                                        F-statistic:                      85.181\nEntities:                          30   P-value                           0.0000\nAvg Obs:                       12.000   Distribution:                   F(4,356)\nMin Obs:                       12.000                                           \nMax Obs:                       12.000   F-statistic (robust):             85.181\n                                        P-value                           0.0000\nTime periods:                      12   Distribution:                   F(4,356)\nAvg Obs:                       30.000                                           \nMin Obs:                       30.000                                           \nMax Obs:                       30.000                                           \n                                                                                \n                              Parameter Estimates                               \n================================================================================\n              Parameter  Std. Err.     T-stat    P-value    Lower CI    Upper CI\n--------------------------------------------------------------------------------\navgVolume    -7.095e-17  9.769e-18    -7.2630     0.0000  -9.016e-17  -5.174e-17\navgMarketCap -1.075e-15  3.605e-16    -2.9823     0.0031  -1.784e-15  -3.661e-16\ndailyVol      2.469e-08  3.068e-09     8.0457     0.0000   1.865e-08   3.072e-08\ninvPriceAvg    1.04e-08  1.257e-09     8.2801     0.0000   7.933e-09   1.288e-08\n================================================================================\nPanelResults, id: 0x7fca3a3b63c8",
            "text/html": "<table class=\"simpletable\">\n<caption>PooledOLS Estimation Summary</caption>\n<tr>\n  <th>Dep. Variable:</th>       <td>amihudRatio</td>   <th>  R-squared:         </th>    <td>0.4890</td> \n</tr>\n<tr>\n  <th>Estimator:</th>            <td>PooledOLS</td>    <th>  R-squared (Between):</th>   <td>0.5538</td> \n</tr>\n<tr>\n  <th>No. Observations:</th>        <td>360</td>       <th>  R-squared (Within):</th>    <td>-0.0810</td>\n</tr>\n<tr>\n  <th>Date:</th>             <td>Fri, Nov 30 2018</td> <th>  R-squared (Overall):</th>   <td>0.4890</td> \n</tr>\n<tr>\n  <th>Time:</th>                 <td>11:00:19</td>     <th>  Log-likelihood     </th>    <td>7075.0</td> \n</tr>\n<tr>\n  <th>Cov. Estimator:</th>      <td>Unadjusted</td>    <th>                     </th>       <td></td>    \n</tr>\n<tr>\n  <th></th>                          <td></td>         <th>  F-statistic:       </th>    <td>85.181</td> \n</tr>\n<tr>\n  <th>Entities:</th>                <td>30</td>        <th>  P-value            </th>    <td>0.0000</td> \n</tr>\n<tr>\n  <th>Avg Obs:</th>               <td>12.000</td>      <th>  Distribution:      </th>   <td>F(4,356)</td>\n</tr>\n<tr>\n  <th>Min Obs:</th>               <td>12.000</td>      <th>                     </th>       <td></td>    \n</tr>\n<tr>\n  <th>Max Obs:</th>               <td>12.000</td>      <th>  F-statistic (robust):</th>  <td>85.181</td> \n</tr>\n<tr>\n  <th></th>                          <td></td>         <th>  P-value            </th>    <td>0.0000</td> \n</tr>\n<tr>\n  <th>Time periods:</th>            <td>12</td>        <th>  Distribution:      </th>   <td>F(4,356)</td>\n</tr>\n<tr>\n  <th>Avg Obs:</th>               <td>30.000</td>      <th>                     </th>       <td></td>    \n</tr>\n<tr>\n  <th>Min Obs:</th>               <td>30.000</td>      <th>                     </th>       <td></td>    \n</tr>\n<tr>\n  <th>Max Obs:</th>               <td>30.000</td>      <th>                     </th>       <td></td>    \n</tr>\n<tr>\n  <th></th>                          <td></td>         <th>                     </th>       <td></td>    \n</tr>\n</table>\n<table class=\"simpletable\">\n<caption>Parameter Estimates</caption>\n<tr>\n        <td></td>        <th>Parameter</th> <th>Std. Err.</th> <th>T-stat</th>  <th>P-value</th>  <th>Lower CI</th>   <th>Upper CI</th> \n</tr>\n<tr>\n  <th>avgVolume</th>    <td>-7.095e-17</td> <td>9.769e-18</td> <td>-7.2630</td> <td>0.0000</td>  <td>-9.016e-17</td> <td>-5.174e-17</td>\n</tr>\n<tr>\n  <th>avgMarketCap</th> <td>-1.075e-15</td> <td>3.605e-16</td> <td>-2.9823</td> <td>0.0031</td>  <td>-1.784e-15</td> <td>-3.661e-16</td>\n</tr>\n<tr>\n  <th>dailyVol</th>      <td>2.469e-08</td> <td>3.068e-09</td> <td>8.0457</td>  <td>0.0000</td>   <td>1.865e-08</td>  <td>3.072e-08</td>\n</tr>\n<tr>\n  <th>invPriceAvg</th>   <td>1.04e-08</td>  <td>1.257e-09</td> <td>8.2801</td>  <td>0.0000</td>   <td>7.933e-09</td>  <td>1.288e-08</td>\n</tr>\n</table><br/>id: 0x7fca3a3b63c8"
          },
          "metadata": {}
        }
      ]
    },
    {
      "metadata": {
        "collapsed": true,
        "trusted": false,
        "_uuid": "aa8ad0f54948caa8a12cfecfda2911f5fbd96e44"
      },
      "cell_type": "code",
      "source": "",
      "execution_count": null,
      "outputs": []
    },
    {
      "metadata": {
        "collapsed": true,
        "trusted": false,
        "_uuid": "84252bae678462bc63c209fe69d7cc973eeac768"
      },
      "cell_type": "code",
      "source": "",
      "execution_count": null,
      "outputs": []
    },
    {
      "metadata": {
        "collapsed": true,
        "trusted": false,
        "_uuid": "ce6f89a6c3029b1ef17b814008883e7053cb0e3f"
      },
      "cell_type": "code",
      "source": "",
      "execution_count": null,
      "outputs": []
    },
    {
      "metadata": {
        "collapsed": true,
        "trusted": false,
        "_uuid": "0736fdefc7e9d4d257c6eddfe0fac0e9080cc724"
      },
      "cell_type": "code",
      "source": "",
      "execution_count": null,
      "outputs": []
    },
    {
      "metadata": {
        "collapsed": true,
        "trusted": false,
        "_uuid": "5cd292772fdd03e0794206458627104bc5c82261"
      },
      "cell_type": "code",
      "source": "",
      "execution_count": null,
      "outputs": []
    },
    {
      "metadata": {
        "collapsed": true,
        "trusted": false,
        "_uuid": "3f00e8dadc7bbe50309630e468974c40a857442c"
      },
      "cell_type": "code",
      "source": "",
      "execution_count": null,
      "outputs": []
    },
    {
      "metadata": {
        "collapsed": true,
        "trusted": false,
        "_uuid": "975de20717e40782a7d41c9913337fe8b9a1240d"
      },
      "cell_type": "code",
      "source": "",
      "execution_count": null,
      "outputs": []
    },
    {
      "metadata": {
        "collapsed": true,
        "trusted": false,
        "_uuid": "12418cdf56d4d5a7339f7121bcc93097242213f0"
      },
      "cell_type": "code",
      "source": "",
      "execution_count": null,
      "outputs": []
    },
    {
      "metadata": {
        "collapsed": true,
        "trusted": false,
        "_uuid": "80870c5b1986b687a53977733597b17fda4747c1"
      },
      "cell_type": "code",
      "source": "",
      "execution_count": null,
      "outputs": []
    }
  ],
  "metadata": {
    "anaconda-cloud": {},
    "kernelspec": {
      "display_name": "Python 3",
      "language": "python",
      "name": "python3"
    },
    "language_info": {
      "codemirror_mode": {
        "name": "ipython",
        "version": 3
      },
      "file_extension": ".py",
      "mimetype": "text/x-python",
      "name": "python",
      "nbconvert_exporter": "python",
      "pygments_lexer": "ipython3",
      "version": "3.5.4"
    }
  },
  "nbformat": 4,
  "nbformat_minor": 1
}